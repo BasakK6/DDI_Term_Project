{
 "cells": [
  {
   "cell_type": "code",
   "execution_count": 2,
   "metadata": {
    "_cell_guid": "b1076dfc-b9ad-4769-8c92-a6c4dae69d19",
    "_uuid": "8f2839f25d086af736a60e9eeb907d3b93b6e0e5"
   },
   "outputs": [],
   "source": [
    "import numpy as np \n",
    "import pandas as pd \n",
    "import matplotlib.pyplot as plt\n",
    "import seaborn as sns\n",
    "from matplotlib import pyplot as plt\n",
    "from pathlib import Path\n",
    "import re\n",
    "from gensim.utils import simple_preprocess\n",
    "from gensim.parsing.porter import PorterStemmer\n",
    "from gensim.models import Word2Vec\n",
    "from gensim.models import FastText\n",
    "from sklearn.model_selection import train_test_split\n",
    "from sklearn.metrics import classification_report"
   ]
  },
  {
   "cell_type": "markdown",
   "metadata": {},
   "source": [
    "# Read and Explore the Data"
   ]
  },
  {
   "cell_type": "code",
   "execution_count": 3,
   "metadata": {
    "_cell_guid": "79c7e3d0-c299-4dcb-8224-4455121ee9b0",
    "_uuid": "d629ff2d2480ee46fbb7e2d37f6b5fab8052498a"
   },
   "outputs": [],
   "source": [
    "path = Path('../input/covid-19-nlp-text-classification/')\n",
    "\n",
    "train_df = pd.read_csv(path / 'Corona_NLP_train.csv', encoding = 'latin1')\n",
    "test_df = pd.read_csv(path / 'Corona_NLP_test.csv', encoding = 'latin1')\n",
    "\n",
    "df = pd.concat([train_df, test_df], ignore_index=True)"
   ]
  },
  {
   "cell_type": "code",
   "execution_count": 4,
   "metadata": {},
   "outputs": [
    {
     "data": {
      "text/html": [
       "<div>\n",
       "<style scoped>\n",
       "    .dataframe tbody tr th:only-of-type {\n",
       "        vertical-align: middle;\n",
       "    }\n",
       "\n",
       "    .dataframe tbody tr th {\n",
       "        vertical-align: top;\n",
       "    }\n",
       "\n",
       "    .dataframe thead th {\n",
       "        text-align: right;\n",
       "    }\n",
       "</style>\n",
       "<table border=\"1\" class=\"dataframe\">\n",
       "  <thead>\n",
       "    <tr style=\"text-align: right;\">\n",
       "      <th></th>\n",
       "      <th>UserName</th>\n",
       "      <th>ScreenName</th>\n",
       "      <th>Location</th>\n",
       "      <th>TweetAt</th>\n",
       "      <th>OriginalTweet</th>\n",
       "      <th>Sentiment</th>\n",
       "    </tr>\n",
       "  </thead>\n",
       "  <tbody>\n",
       "    <tr>\n",
       "      <th>0</th>\n",
       "      <td>3799</td>\n",
       "      <td>48751</td>\n",
       "      <td>London</td>\n",
       "      <td>16-03-2020</td>\n",
       "      <td>@MeNyrbie @Phil_Gahan @Chrisitv https://t.co/i...</td>\n",
       "      <td>Neutral</td>\n",
       "    </tr>\n",
       "    <tr>\n",
       "      <th>1</th>\n",
       "      <td>3800</td>\n",
       "      <td>48752</td>\n",
       "      <td>UK</td>\n",
       "      <td>16-03-2020</td>\n",
       "      <td>advice Talk to your neighbours family to excha...</td>\n",
       "      <td>Positive</td>\n",
       "    </tr>\n",
       "    <tr>\n",
       "      <th>2</th>\n",
       "      <td>3801</td>\n",
       "      <td>48753</td>\n",
       "      <td>Vagabonds</td>\n",
       "      <td>16-03-2020</td>\n",
       "      <td>Coronavirus Australia: Woolworths to give elde...</td>\n",
       "      <td>Positive</td>\n",
       "    </tr>\n",
       "    <tr>\n",
       "      <th>3</th>\n",
       "      <td>3802</td>\n",
       "      <td>48754</td>\n",
       "      <td>NaN</td>\n",
       "      <td>16-03-2020</td>\n",
       "      <td>My food stock is not the only one which is emp...</td>\n",
       "      <td>Positive</td>\n",
       "    </tr>\n",
       "    <tr>\n",
       "      <th>4</th>\n",
       "      <td>3803</td>\n",
       "      <td>48755</td>\n",
       "      <td>NaN</td>\n",
       "      <td>16-03-2020</td>\n",
       "      <td>Me, ready to go at supermarket during the #COV...</td>\n",
       "      <td>Extremely Negative</td>\n",
       "    </tr>\n",
       "    <tr>\n",
       "      <th>...</th>\n",
       "      <td>...</td>\n",
       "      <td>...</td>\n",
       "      <td>...</td>\n",
       "      <td>...</td>\n",
       "      <td>...</td>\n",
       "      <td>...</td>\n",
       "    </tr>\n",
       "    <tr>\n",
       "      <th>44950</th>\n",
       "      <td>3794</td>\n",
       "      <td>48746</td>\n",
       "      <td>Israel ??</td>\n",
       "      <td>16-03-2020</td>\n",
       "      <td>Meanwhile In A Supermarket in Israel -- People...</td>\n",
       "      <td>Positive</td>\n",
       "    </tr>\n",
       "    <tr>\n",
       "      <th>44951</th>\n",
       "      <td>3795</td>\n",
       "      <td>48747</td>\n",
       "      <td>Farmington, NM</td>\n",
       "      <td>16-03-2020</td>\n",
       "      <td>Did you panic buy a lot of non-perishable item...</td>\n",
       "      <td>Negative</td>\n",
       "    </tr>\n",
       "    <tr>\n",
       "      <th>44952</th>\n",
       "      <td>3796</td>\n",
       "      <td>48748</td>\n",
       "      <td>Haverford, PA</td>\n",
       "      <td>16-03-2020</td>\n",
       "      <td>Asst Prof of Economics @cconces was on @NBCPhi...</td>\n",
       "      <td>Neutral</td>\n",
       "    </tr>\n",
       "    <tr>\n",
       "      <th>44953</th>\n",
       "      <td>3797</td>\n",
       "      <td>48749</td>\n",
       "      <td>NaN</td>\n",
       "      <td>16-03-2020</td>\n",
       "      <td>Gov need to do somethings instead of biar je r...</td>\n",
       "      <td>Extremely Negative</td>\n",
       "    </tr>\n",
       "    <tr>\n",
       "      <th>44954</th>\n",
       "      <td>3798</td>\n",
       "      <td>48750</td>\n",
       "      <td>Arlington, Virginia</td>\n",
       "      <td>16-03-2020</td>\n",
       "      <td>I and @ForestandPaper members are committed to...</td>\n",
       "      <td>Extremely Positive</td>\n",
       "    </tr>\n",
       "  </tbody>\n",
       "</table>\n",
       "<p>44955 rows × 6 columns</p>\n",
       "</div>"
      ],
      "text/plain": [
       "       UserName  ScreenName             Location     TweetAt  \\\n",
       "0          3799       48751               London  16-03-2020   \n",
       "1          3800       48752                   UK  16-03-2020   \n",
       "2          3801       48753            Vagabonds  16-03-2020   \n",
       "3          3802       48754                  NaN  16-03-2020   \n",
       "4          3803       48755                  NaN  16-03-2020   \n",
       "...         ...         ...                  ...         ...   \n",
       "44950      3794       48746            Israel ??  16-03-2020   \n",
       "44951      3795       48747       Farmington, NM  16-03-2020   \n",
       "44952      3796       48748        Haverford, PA  16-03-2020   \n",
       "44953      3797       48749                  NaN  16-03-2020   \n",
       "44954      3798       48750  Arlington, Virginia  16-03-2020   \n",
       "\n",
       "                                           OriginalTweet           Sentiment  \n",
       "0      @MeNyrbie @Phil_Gahan @Chrisitv https://t.co/i...             Neutral  \n",
       "1      advice Talk to your neighbours family to excha...            Positive  \n",
       "2      Coronavirus Australia: Woolworths to give elde...            Positive  \n",
       "3      My food stock is not the only one which is emp...            Positive  \n",
       "4      Me, ready to go at supermarket during the #COV...  Extremely Negative  \n",
       "...                                                  ...                 ...  \n",
       "44950  Meanwhile In A Supermarket in Israel -- People...            Positive  \n",
       "44951  Did you panic buy a lot of non-perishable item...            Negative  \n",
       "44952  Asst Prof of Economics @cconces was on @NBCPhi...             Neutral  \n",
       "44953  Gov need to do somethings instead of biar je r...  Extremely Negative  \n",
       "44954  I and @ForestandPaper members are committed to...  Extremely Positive  \n",
       "\n",
       "[44955 rows x 6 columns]"
      ]
     },
     "execution_count": 4,
     "metadata": {},
     "output_type": "execute_result"
    }
   ],
   "source": [
    "df"
   ]
  },
  {
   "cell_type": "code",
   "execution_count": 5,
   "metadata": {},
   "outputs": [
    {
     "data": {
      "text/plain": [
       "Positive              12369\n",
       "Negative              10958\n",
       "Neutral                8332\n",
       "Extremely Positive     7223\n",
       "Extremely Negative     6073\n",
       "Name: Sentiment, dtype: int64"
      ]
     },
     "execution_count": 5,
     "metadata": {},
     "output_type": "execute_result"
    }
   ],
   "source": [
    "df['Sentiment']. value_counts()"
   ]
  },
  {
   "cell_type": "code",
   "execution_count": 6,
   "metadata": {},
   "outputs": [
    {
     "data": {
      "image/png": "[encoded data removed]",
      "text/plain": [
       "<Figure size 576x576 with 1 Axes>"
      ]
     },
     "metadata": {},
     "output_type": "display_data"
    }
   ],
   "source": [
    "#class distributions\n",
    "sns.set_style('darkgrid')\n",
    "plt.figure(figsize = (8, 8))\n",
    "sns.countplot(x = df['Sentiment'] , palette = 'viridis')\n",
    "plt.show()"
   ]
  },
  {
   "cell_type": "code",
   "execution_count": 7,
   "metadata": {},
   "outputs": [
    {
     "data": {
      "text/html": [
       "<div>\n",
       "<style scoped>\n",
       "    .dataframe tbody tr th:only-of-type {\n",
       "        vertical-align: middle;\n",
       "    }\n",
       "\n",
       "    .dataframe tbody tr th {\n",
       "        vertical-align: top;\n",
       "    }\n",
       "\n",
       "    .dataframe thead th {\n",
       "        text-align: right;\n",
       "    }\n",
       "</style>\n",
       "<table border=\"1\" class=\"dataframe\">\n",
       "  <thead>\n",
       "    <tr style=\"text-align: right;\">\n",
       "      <th></th>\n",
       "      <th>OriginalTweet</th>\n",
       "      <th>Sentiment</th>\n",
       "    </tr>\n",
       "  </thead>\n",
       "  <tbody>\n",
       "    <tr>\n",
       "      <th>0</th>\n",
       "      <td>@MeNyrbie @Phil_Gahan @Chrisitv https://t.co/i...</td>\n",
       "      <td>Neutral</td>\n",
       "    </tr>\n",
       "    <tr>\n",
       "      <th>1</th>\n",
       "      <td>advice Talk to your neighbours family to excha...</td>\n",
       "      <td>Positive</td>\n",
       "    </tr>\n",
       "    <tr>\n",
       "      <th>2</th>\n",
       "      <td>Coronavirus Australia: Woolworths to give elde...</td>\n",
       "      <td>Positive</td>\n",
       "    </tr>\n",
       "    <tr>\n",
       "      <th>3</th>\n",
       "      <td>My food stock is not the only one which is emp...</td>\n",
       "      <td>Positive</td>\n",
       "    </tr>\n",
       "    <tr>\n",
       "      <th>4</th>\n",
       "      <td>Me, ready to go at supermarket during the #COV...</td>\n",
       "      <td>Extremely Negative</td>\n",
       "    </tr>\n",
       "  </tbody>\n",
       "</table>\n",
       "</div>"
      ],
      "text/plain": [
       "                                       OriginalTweet           Sentiment\n",
       "0  @MeNyrbie @Phil_Gahan @Chrisitv https://t.co/i...             Neutral\n",
       "1  advice Talk to your neighbours family to excha...            Positive\n",
       "2  Coronavirus Australia: Woolworths to give elde...            Positive\n",
       "3  My food stock is not the only one which is emp...            Positive\n",
       "4  Me, ready to go at supermarket during the #COV...  Extremely Negative"
      ]
     },
     "execution_count": 7,
     "metadata": {},
     "output_type": "execute_result"
    }
   ],
   "source": [
    "#drop unrelated columns\n",
    "df = df.drop(columns = ['UserName', 'ScreenName', 'Location', 'TweetAt'])\n",
    "df.reset_index(drop=True, inplace=True)\n",
    "df.head()"
   ]
  },
  {
   "cell_type": "code",
   "execution_count": 8,
   "metadata": {},
   "outputs": [],
   "source": [
    "df= df[df['Sentiment'] != \"Neutral\"]"
   ]
  },
  {
   "cell_type": "code",
   "execution_count": 9,
   "metadata": {},
   "outputs": [
    {
     "data": {
      "text/plain": [
       "Positive              12369\n",
       "Negative              10958\n",
       "Extremely Positive     7223\n",
       "Extremely Negative     6073\n",
       "Name: Sentiment, dtype: int64"
      ]
     },
     "execution_count": 9,
     "metadata": {},
     "output_type": "execute_result"
    }
   ],
   "source": [
    "df['Sentiment']. value_counts()"
   ]
  },
  {
   "cell_type": "code",
   "execution_count": 10,
   "metadata": {},
   "outputs": [
    {
     "data": {
      "text/plain": [
       "1    19592\n",
       "0    17031\n",
       "Name: label, dtype: int64"
      ]
     },
     "execution_count": 10,
     "metadata": {},
     "output_type": "execute_result"
    }
   ],
   "source": [
    "label_map= {'Positive':1, \"Extremely Positive\":1,'Negative':0, \"Extremely Negative\":0 }\n",
    "df['label'] = df['Sentiment'].map(label_map)\n",
    "df['label'].value_counts()"
   ]
  },
  {
   "cell_type": "markdown",
   "metadata": {},
   "source": [
    "# TEXT CLENAING"
   ]
  },
  {
   "cell_type": "code",
   "execution_count": 11,
   "metadata": {},
   "outputs": [],
   "source": [
    "# Remove link,user and special characters\n",
    "TEXT_CLEANING_RE = \"@\\S+|https?:\\S+|http?:\\S|[^A-Za-z0-9]+\"\n",
    "\n",
    "def clean_text(text):\n",
    "    return  re.sub(TEXT_CLEANING_RE, ' ', str(text).lower()).strip()"
   ]
  },
  {
   "cell_type": "code",
   "execution_count": 12,
   "metadata": {},
   "outputs": [
    {
     "data": {
      "text/plain": [
       "\"My food stock is not the only one which is empty...\\r\\r\\n\\r\\r\\nPLEASE, don't panic, THERE WILL BE ENOUGH FOOD FOR EVERYONE if you do not take more than you need. \\r\\r\\nStay calm, stay safe.\\r\\r\\n\\r\\r\\n#COVID19france #COVID_19 #COVID19 #coronavirus #confinement #Confinementotal #ConfinementGeneral https://t.co/zrlG0Z520j\""
      ]
     },
     "execution_count": 12,
     "metadata": {},
     "output_type": "execute_result"
    }
   ],
   "source": [
    "df['OriginalTweet'][3]"
   ]
  },
  {
   "cell_type": "code",
   "execution_count": 13,
   "metadata": {},
   "outputs": [
    {
     "data": {
      "text/plain": [
       "'my food stock is not the only one which is empty please don t panic there will be enough food for everyone if you do not take more than you need stay calm stay safe covid19france covid 19 covid19 coronavirus confinement confinementotal confinementgeneral'"
      ]
     },
     "execution_count": 13,
     "metadata": {},
     "output_type": "execute_result"
    }
   ],
   "source": [
    "clean_text(df['OriginalTweet'][3])\n"
   ]
  },
  {
   "cell_type": "code",
   "execution_count": 14,
   "metadata": {},
   "outputs": [
    {
     "data": {
      "text/plain": [
       "1        advice talk to your neighbours family to excha...\n",
       "2        coronavirus australia woolworths to give elder...\n",
       "3        my food stock is not the only one which is emp...\n",
       "4        me ready to go at supermarket during the covid...\n",
       "5        as news of the region s first confirmed covid ...\n",
       "                               ...                        \n",
       "44949    mdcounties craig will you call on the general ...\n",
       "44950    meanwhile in a supermarket in israel people da...\n",
       "44951    did you panic buy a lot of non perishable item...\n",
       "44953    gov need to do somethings instead of biar je r...\n",
       "44954    i and forestandpaper members are committed to ...\n",
       "Name: OriginalTweet, Length: 36623, dtype: object"
      ]
     },
     "execution_count": 14,
     "metadata": {},
     "output_type": "execute_result"
    }
   ],
   "source": [
    "df['OriginalTweet'].apply(lambda x: clean_text(x))\n"
   ]
  },
  {
   "cell_type": "markdown",
   "metadata": {},
   "source": [
    "# Tokenize"
   ]
  },
  {
   "cell_type": "code",
   "execution_count": 15,
   "metadata": {},
   "outputs": [],
   "source": [
    "#Gensim’s simple_preprocess allows you to convert text to lower case and remove punctuations and tokenize text\n",
    "\n",
    "def apply_simple_process_to_tokenize(df):\n",
    "    df['tokenized_text'] = [simple_preprocess(line, deacc=True) for line in df['OriginalTweet']]\n",
    "    return df"
   ]
  },
  {
   "cell_type": "code",
   "execution_count": 16,
   "metadata": {},
   "outputs": [],
   "source": [
    "df = apply_simple_process_to_tokenize(df)"
   ]
  },
  {
   "cell_type": "code",
   "execution_count": 17,
   "metadata": {},
   "outputs": [
    {
     "name": "stdout",
     "output_type": "stream",
     "text": [
      "advice Talk to your neighbours family to exchange phone numbers create contact list with phone numbers of neighbours schools employer chemist GP set up online shopping accounts if poss adequate supplies of regular meds but not over order\n",
      "\n",
      "['advice', 'talk', 'to', 'your', 'neighbours', 'family', 'to', 'exchange', 'phone', 'numbers', 'create', 'contact', 'list', 'with', 'phone', 'numbers', 'of', 'neighbours', 'schools', 'employer', 'chemist', 'gp', 'set', 'up', 'online', 'shopping', 'accounts', 'if', 'poss', 'adequate', 'supplies', 'of', 'regular', 'meds', 'but', 'not', 'over', 'order']\n",
      "\n",
      "1\n"
     ]
    }
   ],
   "source": [
    "print(df['OriginalTweet'][1])\n",
    "print()\n",
    "print(df['tokenized_text'][1])\n",
    "print()\n",
    "print(df['label'][1])"
   ]
  },
  {
   "cell_type": "markdown",
   "metadata": {},
   "source": [
    "# Apply Stemming"
   ]
  },
  {
   "cell_type": "code",
   "execution_count": 18,
   "metadata": {},
   "outputs": [],
   "source": [
    "#reduce the words into root word-> Porter Stammer, Lancaster Stammer, SnowballStemmer\n",
    "def apply_stemming(df):\n",
    "    porter_stemmer = PorterStemmer()\n",
    "    # Get the stemmed_tokens\n",
    "    df['stemmed_tokens'] = [[porter_stemmer.stem(word) for word in tokens] for tokens in df['tokenized_text']]\n",
    "    return df"
   ]
  },
  {
   "cell_type": "code",
   "execution_count": 19,
   "metadata": {},
   "outputs": [],
   "source": [
    "df = apply_stemming(df)"
   ]
  },
  {
   "cell_type": "code",
   "execution_count": 20,
   "metadata": {},
   "outputs": [
    {
     "name": "stdout",
     "output_type": "stream",
     "text": [
      "advice Talk to your neighbours family to exchange phone numbers create contact list with phone numbers of neighbours schools employer chemist GP set up online shopping accounts if poss adequate supplies of regular meds but not over order\n",
      "\n",
      "['advice', 'talk', 'to', 'your', 'neighbours', 'family', 'to', 'exchange', 'phone', 'numbers', 'create', 'contact', 'list', 'with', 'phone', 'numbers', 'of', 'neighbours', 'schools', 'employer', 'chemist', 'gp', 'set', 'up', 'online', 'shopping', 'accounts', 'if', 'poss', 'adequate', 'supplies', 'of', 'regular', 'meds', 'but', 'not', 'over', 'order']\n",
      "\n",
      "['advic', 'talk', 'to', 'your', 'neighbour', 'famili', 'to', 'exchang', 'phone', 'number', 'creat', 'contact', 'list', 'with', 'phone', 'number', 'of', 'neighbour', 'school', 'employ', 'chemist', 'gp', 'set', 'up', 'onlin', 'shop', 'account', 'if', 'poss', 'adequ', 'suppli', 'of', 'regular', 'med', 'but', 'not', 'over', 'order']\n",
      "\n",
      "1\n"
     ]
    }
   ],
   "source": [
    "print(df['OriginalTweet'][1])\n",
    "print()\n",
    "print(df['tokenized_text'][1])\n",
    "print()\n",
    "print(df['stemmed_tokens'][1])\n",
    "print()\n",
    "print(df['label'][1])"
   ]
  },
  {
   "cell_type": "markdown",
   "metadata": {},
   "source": [
    "# Word Vectors"
   ]
  },
  {
   "cell_type": "code",
   "execution_count": 21,
   "metadata": {},
   "outputs": [],
   "source": [
    "size = 200\n",
    "window = 3\n",
    "workers = 3\n",
    "sg = 1\n",
    "\n",
    "# Function to train word2vec or FastText model\n",
    "def make_word_vector_model(df, padding=True, sg=1, size=100, workers=3, window=3, word2vec = True):\n",
    "    \n",
    "    if  padding: #include the 'pad' word to get a word vector for padding\n",
    "        print(len(df))\n",
    "        temp_df = pd.Series(df['stemmed_tokens']).values\n",
    "        temp_df = list(temp_df)\n",
    "        temp_df.append(['pad'])\n",
    "       \n",
    "    else:\n",
    "        temp_df = df['stemmed_tokens']\n",
    "        \n",
    "        \n",
    "    if word2vec:\n",
    "        return Word2Vec(temp_df,  size = size, min_count=5, workers = workers, window = window, sg = sg)\n",
    "    else:\n",
    "        return FastText(temp_df,  size = size, min_count=5, workers = workers, window = window, sg = sg)     "
   ]
  },
  {
   "cell_type": "code",
   "execution_count": 22,
   "metadata": {},
   "outputs": [
    {
     "name": "stdout",
     "output_type": "stream",
     "text": [
      "36623\n"
     ]
    }
   ],
   "source": [
    "# Train Word2vec model\n",
    "w2vmodel = make_word_vector_model(df, padding=True, sg=sg, size=size, workers=workers, window=window, word2vec = True)"
   ]
  },
  {
   "cell_type": "code",
   "execution_count": 23,
   "metadata": {},
   "outputs": [
    {
     "data": {
      "text/plain": [
       "[('woman', 0.8541833758354187),\n",
       " ('ladi', 0.8278080224990845),\n",
       " ('allegedli', 0.7635944485664368),\n",
       " ('twist', 0.7497348189353943),\n",
       " ('mother', 0.737544059753418),\n",
       " ('intention', 0.7297983169555664),\n",
       " ('camera', 0.7293235659599304),\n",
       " ('purposefulli', 0.7268612384796143),\n",
       " ('assault', 0.719545841217041),\n",
       " ('purpos', 0.7167271375656128)]"
      ]
     },
     "execution_count": 23,
     "metadata": {},
     "output_type": "execute_result"
    }
   ],
   "source": [
    "w2vmodel.wv.most_similar(\"man\")"
   ]
  },
  {
   "cell_type": "code",
   "execution_count": 24,
   "metadata": {},
   "outputs": [
    {
     "name": "stdout",
     "output_type": "stream",
     "text": [
      "36623\n"
     ]
    }
   ],
   "source": [
    "# Train FastText model\n",
    "fastText_model = make_word_vector_model(df, padding=True, sg=sg, size=size, workers=workers, window=window, word2vec = False)"
   ]
  },
  {
   "cell_type": "code",
   "execution_count": 25,
   "metadata": {},
   "outputs": [
    {
     "data": {
      "text/plain": [
       "[('woman', 0.8470180034637451),\n",
       " ('oman', 0.8307955265045166),\n",
       " ('batman', 0.7707554697990417),\n",
       " ('wegman', 0.7660701274871826),\n",
       " ('nan', 0.7419171333312988),\n",
       " ('pacman', 0.7348257303237915),\n",
       " ('salman', 0.7319042086601257),\n",
       " ('huntsman', 0.7302365899085999),\n",
       " ('ladi', 0.7280776500701904),\n",
       " ('allegedli', 0.7233734130859375)]"
      ]
     },
     "execution_count": 25,
     "metadata": {},
     "output_type": "execute_result"
    }
   ],
   "source": [
    "fastText_model.wv.most_similar(\"man\")"
   ]
  },
  {
   "cell_type": "code",
   "execution_count": 26,
   "metadata": {},
   "outputs": [
    {
     "name": "stdout",
     "output_type": "stream",
     "text": [
      "Tweet with a maximum word count- id: 16310  and the word count: 60\n"
     ]
    }
   ],
   "source": [
    "max_sen_len = df['stemmed_tokens'].map(len).max()\n",
    "max_sen_len_idx = df['stemmed_tokens'].map(len).argmax()\n",
    "print(\"Tweet with a maximum word count- id:\", max_sen_len_idx, \" and the word count:\",max_sen_len)"
   ]
  },
  {
   "cell_type": "code",
   "execution_count": 27,
   "metadata": {},
   "outputs": [],
   "source": [
    "#function to get word_vector representations of a stemmed sentence, will be used for every tweet before feeding them to cnn\n",
    "def make_word_vector_for_cnn(sentence, max_sen_len, padding_idx, word2vec = True):\n",
    "    padded_X = [padding_idx for i in range(max_sen_len)]\n",
    "    \n",
    "    word_vector_model = w2vmodel if word2vec else fastText_model\n",
    "    \n",
    "    i = 0\n",
    "    for word in sentence:\n",
    "        if word not in word_vector_model.wv.vocab:\n",
    "            padded_X[i] = 0\n",
    "        else:\n",
    "            padded_X[i] = word_vector_model.wv.vocab[word].index\n",
    "        i += 1\n",
    "        \n",
    "    return torch.tensor(padded_X, dtype=torch.long, device=device).view(1, -1)"
   ]
  },
  {
   "cell_type": "code",
   "execution_count": 28,
   "metadata": {},
   "outputs": [],
   "source": [
    "# Function to get the output as a tensor\n",
    "def make_target(label):\n",
    "    if label == 0:\n",
    "        return torch.tensor([0], dtype=torch.long, device=device)\n",
    "    else:\n",
    "        return torch.tensor([1], dtype=torch.long, device=device)"
   ]
  },
  {
   "cell_type": "code",
   "execution_count": 29,
   "metadata": {},
   "outputs": [],
   "source": [
    "# Train Test Split Function\n",
    "def split_train_test(df, test_size=0.2, shuffle_state=True):\n",
    "    X_train, X_test, Y_train, Y_test = train_test_split(df[['stemmed_tokens']], \n",
    "                                                        df['label'], \n",
    "                                                        shuffle=shuffle_state,\n",
    "                                                        test_size=test_size, \n",
    "                                                        random_state=1)\n",
    "    print(\"Value counts for Train sentiments\")\n",
    "    print(Y_train.value_counts())\n",
    "    print()\n",
    "    print(\"Value counts for Test sentiments\")\n",
    "    print(Y_test.value_counts())\n",
    "    print()\n",
    "    \n",
    "    X_train = X_train.reset_index()\n",
    "    X_test = X_test.reset_index()\n",
    "    Y_train = Y_train.to_frame()\n",
    "    Y_train = Y_train.reset_index()\n",
    "    Y_test = Y_test.to_frame()\n",
    "    Y_test = Y_test.reset_index()\n",
    "    \n",
    "    print(X_train.head())\n",
    "    return X_train, X_test, Y_train, Y_test"
   ]
  },
  {
   "cell_type": "code",
   "execution_count": 30,
   "metadata": {},
   "outputs": [
    {
     "name": "stdout",
     "output_type": "stream",
     "text": [
      "Value counts for Train sentiments\n",
      "1    15668\n",
      "0    13630\n",
      "Name: label, dtype: int64\n",
      "\n",
      "Value counts for Test sentiments\n",
      "1    3924\n",
      "0    3401\n",
      "Name: label, dtype: int64\n",
      "\n",
      "   index                                     stemmed_tokens\n",
      "0  41546  [how, ar, you, encourag, your, client, and, co...\n",
      "1  43407  [panic, in, citi, amid, partial, lockdown, gov...\n",
      "2   3099  [scammer, ar, take, advantag, of, fear, surrou...\n",
      "3  34380  [to, all, the, healthcar, worker, law, enforc,...\n",
      "4    196  [gt, massgovernor, announc, loan, fund, admini...\n"
     ]
    }
   ],
   "source": [
    "# Call the train_test_split\n",
    "x_train, x_test, y_train, y_test = split_train_test(df)"
   ]
  },
  {
   "cell_type": "code",
   "execution_count": 31,
   "metadata": {},
   "outputs": [
    {
     "name": "stdout",
     "output_type": "stream",
     "text": [
      "Device available for running: \n",
      "cuda\n"
     ]
    }
   ],
   "source": [
    "import torch.nn as nn\n",
    "import torch.nn.functional as F\n",
    "import torch.optim as optim\n",
    "\n",
    "import torch\n",
    "# Use cuda if present\n",
    "device = torch.device(\"cuda\" if torch.cuda.is_available() else \"cpu\")\n",
    "print(\"Device available for running: \")\n",
    "print(device)\n"
   ]
  },
  {
   "cell_type": "markdown",
   "metadata": {},
   "source": [
    "#how to create a conv layer list with list comprehension\n",
    "\n",
    "EMBEDDING_SIZE = 200\n",
    "NUM_FILTERS = 10\n",
    "\n",
    "window_sizes=(1,2,3,5)\n",
    "\n",
    "conv_layer_list = nn.ModuleList([ nn.Conv2d(1, NUM_FILTERS, \n",
    "                            [window_size, EMBEDDING_SIZE], padding=(window_size - 1, 0)) for window_size in window_sizes])\n",
    "\n",
    "conv_layer_list"
   ]
  },
  {
   "cell_type": "code",
   "execution_count": 75,
   "metadata": {},
   "outputs": [],
   "source": [
    "#model codes\n",
    "import numpy as np\n",
    "\n",
    "EMBEDDING_SIZE = 200\n",
    "RNN_SIZE=100\n",
    "import gensim\n",
    "\n",
    "class CnnTextClassifier(nn.Module):\n",
    "    \n",
    "    def __init__(self, vocab_size, num_classes, word_vector_model=w2vmodel):\n",
    "        super(CnnTextClassifier, self).__init__()\n",
    "        \n",
    "        self.n_layers = 1\n",
    "        self.hidden_dim = 100\n",
    "    \n",
    "        weights = word_vector_model.wv\n",
    "        \n",
    "        #define the layers\n",
    "        self.embedding = nn.Embedding.from_pretrained(torch.FloatTensor(weights.vectors),\n",
    "                                                      padding_idx=word_vector_model.wv.vocab['pad'].index)\n",
    "\n",
    "        \n",
    "        #lstm layer\n",
    "        self.lstm = nn.LSTM(EMBEDDING_SIZE, self.hidden_dim,self.n_layers, batch_first=True)     \n",
    "        \n",
    "\n",
    "        self.fc = nn.Linear(self.hidden_dim * 60, num_classes)\n",
    "        \n",
    "\n",
    "    def forward(self, x):\n",
    "        #create the model\n",
    "        # embeddings and lstm_out\n",
    "        batch_size = x.size(0)\n",
    "        x = self.embedding(x)\n",
    "        #print(x.shape)\n",
    "        lstm_out, hidden = self.lstm(x)\n",
    "        #lstm_out=lstm_out[ : , -1, : ] \n",
    "        #print(lstm_out.shape)\n",
    "        #flatten_dim = np.prod(lstm_out.shape)\n",
    "        #lstm_out=lstm_out.view(-1, flatten_dim)\n",
    "        #print(lstm_out.shape)\n",
    "        lstm_out = lstm_out.view(-1, np.prod(lstm_out.shape))\n",
    "        \n",
    "        out = self.fc(lstm_out)\n",
    "        probs = F.softmax(out, dim = 1)\n",
    "        \n",
    "        return probs\n",
    "    \n",
    "    "
   ]
  },
  {
   "cell_type": "markdown",
   "metadata": {},
   "source": [
    "# Train the network with Word2Vec pretrained vectors"
   ]
  },
  {
   "cell_type": "code",
   "execution_count": null,
   "metadata": {},
   "outputs": [],
   "source": [
    "#function to output the performance of the trained model\n",
    "def print_classification_report(wor2vec=True):\n",
    "    cnn_predictions = []\n",
    "    original_lables = []\n",
    "    cnn_model.eval()\n",
    "    \n",
    "    with torch.no_grad():\n",
    "        for index, row in x_test.iterrows():\n",
    "            bow_vec= make_word_vector_for_cnn(row['stemmed_tokens'],\n",
    "                                           max_sen_len=max_sen_len,\n",
    "                                           padding_idx=padding_idx ,\n",
    "                                           word2vec = True)\n",
    "            \n",
    "            probs = cnn_model(bow_vec)\n",
    "            \n",
    "            #get the predicted class\n",
    "            _, predicted = torch.max(probs.data, 1)\n",
    "            \n",
    "            #append to the lists to later see the performance\n",
    "            cnn_predictions.append(predicted.cpu().numpy()[0])\n",
    "            original_lables.append(make_target(y_test['label'][index]).cpu().numpy()[0])\n",
    "    \n",
    "    print(classification_report(original_lables, cnn_predictions))       \n"
   ]
  },
  {
   "cell_type": "code",
   "execution_count": null,
   "metadata": {},
   "outputs": [],
   "source": [
    "#funtion where the training is executed\n",
    "\n",
    "def train_the_model(VOCAB_SIZE, padding_idx, cnn_model, word2vec=True ):\n",
    "    cnn_model.to(device)\n",
    "    loss_function = nn.CrossEntropyLoss()\n",
    "    optimizer = optim.Adam(cnn_model.parameters(), lr=0.001)\n",
    "    num_epochs = 30\n",
    "\n",
    "\n",
    "    losses = []\n",
    "    cnn_model.train()\n",
    "    for epoch in range(num_epochs):\n",
    "        print(\"Epoch\" + str(epoch + 1))\n",
    "        train_loss = 0\n",
    "        for index, row in x_train.iterrows():\n",
    "            # Clearing the accumulated gradients\n",
    "            cnn_model.zero_grad()\n",
    "\n",
    "            # Make the bag of words vector for stemmed tokens \n",
    "            bow_vec = make_word_vector_for_cnn(row['stemmed_tokens'],\n",
    "                                           max_sen_len=max_sen_len,\n",
    "                                           padding_idx=padding_idx ,\n",
    "                                           word2vec = word2vec)\n",
    "       \n",
    "            # Forward pass to get output\n",
    "            probs = cnn_model(bow_vec)\n",
    "\n",
    "            # Get the target label\n",
    "            target = make_target(y_train['label'][index])\n",
    "\n",
    "            # Calculate Loss: softmax --> cross entropy loss\n",
    "            loss = loss_function(probs, target)\n",
    "            train_loss += loss.item()\n",
    "\n",
    "            # Getting gradients -> backward prop.\n",
    "            loss.backward()\n",
    "\n",
    "            # Updating parameters\n",
    "            optimizer.step()\n",
    "\n",
    "        print(\"Epoch \" + str((epoch+1)) + \", Loss: \" + str(train_loss / len(x_train)))\n",
    "        losses.append(train_loss / len(x_train))\n",
    "        print('\\n')\n",
    "        train_loss = 0\n",
    "\n",
    "\n",
    "    plt.plot(range(1,num_epochs+1), losses)\n",
    "    plt.show()\n",
    "    print()\n",
    "    print_classification_report(wor2vec= word2vec)\n",
    "            "
   ]
  },
  {
   "cell_type": "markdown",
   "metadata": {},
   "source": [
    "# Train the network with Word2Vec pretrained vectors"
   ]
  },
  {
   "cell_type": "code",
   "execution_count": 77,
   "metadata": {},
   "outputs": [
    {
     "name": "stdout",
     "output_type": "stream",
     "text": [
      "Epoch1\n",
      "Epoch 1, Loss: 0.5398660854844805\n",
      "\n",
      "\n",
      "Epoch2\n",
      "Epoch 2, Loss: 0.4890017667688016\n",
      "\n",
      "\n",
      "Epoch3\n",
      "Epoch 3, Loss: 0.46635206794830725\n",
      "\n",
      "\n",
      "Epoch4\n",
      "Epoch 4, Loss: 0.44841142007210727\n",
      "\n",
      "\n",
      "Epoch5\n",
      "Epoch 5, Loss: 0.43660319992072494\n",
      "\n",
      "\n",
      "Epoch6\n",
      "Epoch 6, Loss: 0.4301834764704541\n",
      "\n",
      "\n",
      "Epoch7\n",
      "Epoch 7, Loss: 0.42084886379226155\n",
      "\n",
      "\n",
      "Epoch8\n",
      "Epoch 8, Loss: 0.414643430052312\n",
      "\n",
      "\n",
      "Epoch9\n",
      "Epoch 9, Loss: 0.4100322634229905\n",
      "\n",
      "\n",
      "Epoch10\n",
      "Epoch 10, Loss: 0.4059311596057351\n",
      "\n",
      "\n",
      "Epoch11\n",
      "Epoch 11, Loss: 0.4020553271185295\n",
      "\n",
      "\n",
      "Epoch12\n",
      "Epoch 12, Loss: 0.39949215506398966\n",
      "\n",
      "\n",
      "Epoch13\n",
      "Epoch 13, Loss: 0.39785448105186805\n",
      "\n",
      "\n",
      "Epoch14\n",
      "Epoch 14, Loss: 0.396336399795407\n",
      "\n",
      "\n",
      "Epoch15\n",
      "Epoch 15, Loss: 0.39342348598194526\n",
      "\n",
      "\n",
      "Epoch16\n",
      "Epoch 16, Loss: 0.391140166452146\n",
      "\n",
      "\n",
      "Epoch17\n",
      "Epoch 17, Loss: 0.3900096138743575\n",
      "\n",
      "\n",
      "Epoch18\n",
      "Epoch 18, Loss: 0.3878222258312807\n",
      "\n",
      "\n",
      "Epoch19\n",
      "Epoch 19, Loss: 0.3856268327570554\n",
      "\n",
      "\n",
      "Epoch20\n",
      "Epoch 20, Loss: 0.3848895621282248\n",
      "\n",
      "\n",
      "Epoch21\n",
      "Epoch 21, Loss: 0.3833113383509143\n",
      "\n",
      "\n",
      "Epoch22\n",
      "Epoch 22, Loss: 0.3834192983064076\n",
      "\n",
      "\n",
      "Epoch23\n",
      "Epoch 23, Loss: 0.38086327054743246\n",
      "\n",
      "\n",
      "Epoch24\n",
      "Epoch 24, Loss: 0.3783566752805084\n",
      "\n",
      "\n",
      "Epoch25\n",
      "Epoch 25, Loss: 0.3792650700571659\n",
      "\n",
      "\n",
      "Epoch26\n",
      "Epoch 26, Loss: 0.3779543246439402\n",
      "\n",
      "\n",
      "Epoch27\n",
      "Epoch 27, Loss: 0.37933385665221087\n",
      "\n",
      "\n",
      "Epoch28\n",
      "Epoch 28, Loss: 0.37754945777709087\n",
      "\n",
      "\n",
      "Epoch29\n",
      "Epoch 29, Loss: 0.37542080714931436\n",
      "\n",
      "\n",
      "Epoch30\n",
      "Epoch 30, Loss: 0.37436570642474437\n",
      "\n",
      "\n"
     ]
    },
    {
     "data": {
      "image/png": "[encoded data removed]",
      "text/plain": [
       "<Figure size 432x288 with 1 Axes>"
      ]
     },
     "metadata": {},
     "output_type": "display_data"
    },
    {
     "name": "stdout",
     "output_type": "stream",
     "text": [
      "\n",
      "              precision    recall  f1-score   support\n",
      "\n",
      "           0       0.82      0.79      0.81      3401\n",
      "           1       0.83      0.85      0.84      3924\n",
      "\n",
      "    accuracy                           0.82      7325\n",
      "   macro avg       0.82      0.82      0.82      7325\n",
      "weighted avg       0.82      0.82      0.82      7325\n",
      "\n"
     ]
    }
   ],
   "source": [
    "VOCAB_SIZE = len(w2vmodel.wv.vocab)\n",
    "padding_idx = w2vmodel.wv.vocab['pad'].index\n",
    "cnn_model = CnnTextClassifier(vocab_size= VOCAB_SIZE, num_classes= 2, word_vector_model= w2vmodel)\n",
    "\n",
    "train_the_model(VOCAB_SIZE, padding_idx, cnn_model, word2vec=True)"
   ]
  },
  {
   "cell_type": "markdown",
   "metadata": {},
   "source": [
    "# Train the network with FastText pretrained vectors"
   ]
  },
  {
   "cell_type": "code",
   "execution_count": 78,
   "metadata": {},
   "outputs": [
    {
     "name": "stdout",
     "output_type": "stream",
     "text": [
      "Epoch1\n",
      "Epoch 1, Loss: 0.5464568995531854\n",
      "\n",
      "\n",
      "Epoch2\n",
      "Epoch 2, Loss: 0.488810599316134\n",
      "\n",
      "\n",
      "Epoch3\n",
      "Epoch 3, Loss: 0.46547402426141693\n",
      "\n",
      "\n",
      "Epoch4\n",
      "Epoch 4, Loss: 0.44690805616533563\n",
      "\n",
      "\n",
      "Epoch5\n",
      "Epoch 5, Loss: 0.4351965285747627\n",
      "\n",
      "\n",
      "Epoch6\n",
      "Epoch 6, Loss: 0.4254114556307678\n",
      "\n",
      "\n",
      "Epoch7\n",
      "Epoch 7, Loss: 0.4187458425859956\n",
      "\n",
      "\n",
      "Epoch8\n",
      "Epoch 8, Loss: 0.41461255106431844\n",
      "\n",
      "\n",
      "Epoch9\n",
      "Epoch 9, Loss: 0.41070241476844316\n",
      "\n",
      "\n",
      "Epoch10\n",
      "Epoch 10, Loss: 0.4058440489350785\n",
      "\n",
      "\n",
      "Epoch11\n",
      "Epoch 11, Loss: 0.4011731818343797\n",
      "\n",
      "\n",
      "Epoch12\n",
      "Epoch 12, Loss: 0.39756767245268804\n",
      "\n",
      "\n",
      "Epoch13\n",
      "Epoch 13, Loss: 0.39547485938409266\n",
      "\n",
      "\n",
      "Epoch14\n",
      "Epoch 14, Loss: 0.39338253293926706\n",
      "\n",
      "\n",
      "Epoch15\n",
      "Epoch 15, Loss: 0.38933280065601794\n",
      "\n",
      "\n",
      "Epoch16\n",
      "Epoch 16, Loss: 0.39001428891761414\n",
      "\n",
      "\n",
      "Epoch17\n",
      "Epoch 17, Loss: 0.38825216025156783\n",
      "\n",
      "\n",
      "Epoch18\n",
      "Epoch 18, Loss: 0.3860975497604613\n",
      "\n",
      "\n",
      "Epoch19\n",
      "Epoch 19, Loss: 0.3832916024663162\n",
      "\n",
      "\n",
      "Epoch20\n",
      "Epoch 20, Loss: 0.3809400908356519\n",
      "\n",
      "\n",
      "Epoch21\n",
      "Epoch 21, Loss: 0.3833163465275375\n",
      "\n",
      "\n",
      "Epoch22\n",
      "Epoch 22, Loss: 0.3794566788930308\n",
      "\n",
      "\n",
      "Epoch23\n",
      "Epoch 23, Loss: 0.3809665240776141\n",
      "\n",
      "\n",
      "Epoch24\n",
      "Epoch 24, Loss: 0.37956686791128424\n",
      "\n",
      "\n",
      "Epoch25\n",
      "Epoch 25, Loss: 0.37746260049941394\n",
      "\n",
      "\n",
      "Epoch26\n",
      "Epoch 26, Loss: 0.37530758043032586\n",
      "\n",
      "\n",
      "Epoch27\n",
      "Epoch 27, Loss: 0.37787011028947387\n",
      "\n",
      "\n",
      "Epoch28\n",
      "Epoch 28, Loss: 0.3774197995154082\n",
      "\n",
      "\n",
      "Epoch29\n",
      "Epoch 29, Loss: 0.3753878680200933\n",
      "\n",
      "\n",
      "Epoch30\n",
      "Epoch 30, Loss: 0.3760403350582545\n",
      "\n",
      "\n"
     ]
    },
    {
     "data": {
      "image/png": "[encoded data removed]",
      "text/plain": [
       "<Figure size 432x288 with 1 Axes>"
      ]
     },
     "metadata": {},
     "output_type": "display_data"
    },
    {
     "name": "stdout",
     "output_type": "stream",
     "text": [
      "\n",
      "              precision    recall  f1-score   support\n",
      "\n",
      "           0       0.80      0.83      0.81      3401\n",
      "           1       0.84      0.82      0.83      3924\n",
      "\n",
      "    accuracy                           0.82      7325\n",
      "   macro avg       0.82      0.82      0.82      7325\n",
      "weighted avg       0.82      0.82      0.82      7325\n",
      "\n"
     ]
    }
   ],
   "source": [
    "VOCAB_SIZE = len(fastText_model.wv.vocab)\n",
    "padding_idx = fastText_model.wv.vocab['pad'].index\n",
    "cnn_model = CnnTextClassifier(vocab_size= VOCAB_SIZE, num_classes= 2, word_vector_model= fastText_model)\n",
    "\n",
    "train_the_model(VOCAB_SIZE, padding_idx, cnn_model, word2vec=False)"
   ]
  },
  {
   "cell_type": "code",
   "execution_count": null,
   "metadata": {},
   "outputs": [],
   "source": [
    "string a=5"
   ]
  },
  {
   "cell_type": "code",
   "execution_count": null,
   "metadata": {},
   "outputs": [],
   "source": []
  }
 ],
 "metadata": {
  "kernelspec": {
   "display_name": "Python 3",
   "language": "python",
   "name": "python3"
  },
  "language_info": {
   "codemirror_mode": {
    "name": "ipython",
    "version": 3
   },
   "file_extension": ".py",
   "mimetype": "text/x-python",
   "name": "python",
   "nbconvert_exporter": "python",
   "pygments_lexer": "ipython3",
   "version": "3.8.3"
  }
 },
 "nbformat": 4,
 "nbformat_minor": 4
}
